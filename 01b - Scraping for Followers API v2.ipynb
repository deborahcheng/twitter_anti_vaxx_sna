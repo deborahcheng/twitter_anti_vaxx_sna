{
 "cells": [
  {
   "cell_type": "markdown",
   "metadata": {},
   "source": [
    "# Scraping Twitter for Followers of LotusOak2\n",
    "\n",
    "The objective of this notebook was to scrape the followers of one of the most active anti-vaxx bots on Twitter. However, part way through our data collection process (including the week of tweet scraping), this user was banned from Twitter. Other than the user information on LotusOak2, this scraped dataset was not used in the final version of this project."
   ]
  },
  {
   "cell_type": "markdown",
   "metadata": {},
   "source": [
    "# Load Libraries"
   ]
  },
  {
   "cell_type": "code",
   "execution_count": 102,
   "metadata": {},
   "outputs": [],
   "source": [
    "import pandas as pd\n",
    "import numpy as np\n",
    "import json\n",
    "import datetime\n",
    "import time\n",
    "import requests\n",
    "import os\n",
    "from IPython.display import clear_output"
   ]
  },
  {
   "cell_type": "markdown",
   "metadata": {},
   "source": [
    "# User Defined Functions"
   ]
  },
  {
   "cell_type": "markdown",
   "metadata": {},
   "source": [
    "Twitter API v2 offers more information in the search, whereas the libraries retrieving followers data with Twitter API v1.1 are limited in the information the results provide. Therefore, we wrote our own functions in order to use Twitter API v2."
   ]
  },
  {
   "cell_type": "markdown",
   "metadata": {},
   "source": [
    "## Set Twitter Authorization Codes"
   ]
  },
  {
   "cell_type": "code",
   "execution_count": 2,
   "metadata": {},
   "outputs": [],
   "source": [
    "tokens_to_use = \"albert\""
   ]
  },
  {
   "cell_type": "code",
   "execution_count": 3,
   "metadata": {},
   "outputs": [],
   "source": [
    "if (tokens_to_use == \"albert\") :\n",
    "    ACCESS_TOKEN = '1277460825599508480-7j6rqWR0NZBCPRZ71pUVyZTKwuaBwf'\n",
    "    ACCESS_SECRET = 'rZ1kGLrc18GJOEBncEA4GCKwUEoQMfBpaVn8qjSXp3rxH'\n",
    "    CONSUMER_KEY = 'Mvmui6zu16TEK6Q1NnJp3mWOg'\n",
    "    CONSUMER_SECRET = 'UsK7AvhtSp0oBEV46Pm4sNzRYc3MAidhauTIX1K5tJKYRllgrc'\n",
    "    #bearer token\n",
    "    token = 'AAAAAAAAAAAAAAAAAAAAAA2AJwEAAAAAgBoQOaUAxzTzGKEE9nOMssJ01o4%3DZVpQV4BIPqPuLFlUsmjnkxOi8kv0IOgpOa8NgytniNFW0K36q3'\n",
    "elif (tokens_to_use == \"deborah\") :\n",
    "    ACCESS_TOKEN = '168323323-6hftUbBs0WYhDNmtn8c7X2sH8PvvWdri1ABKecBI'\n",
    "    ACCESS_SECRET = '4cOcQpqjwKorL0jssomGTUy5nW7d81bVz6TWJp8dwlzEO'\n",
    "    CONSUMER_KEY = 'WcUcc7EOc5Bw4NuHGI5cGgJZ8'\n",
    "    CONSUMER_SECRET = 'xrhvRXPhaJZEbtBo9kshs3pgYYnWabPdNO5rqJy5toT7JPDY5S'\n",
    "    #bearer token\n",
    "    token = 'AAAAAAAAAAAAAAAAAAAAAIFxJwEAAAAAkL0GXCPub0I%2BMW9v3p1CsNBZMrQ%3DWbaCrcrY6miB8TD7E5L5Xrz6ItfTJoxUy3EPDIksC2of4OVySs'"
   ]
  },
  {
   "cell_type": "code",
   "execution_count": 4,
   "metadata": {},
   "outputs": [],
   "source": [
    "# define sleep countdown to avoid maxing out Twitter query window\n",
    "def sleep_countdown(sleep_time) :\n",
    "    while sleep_time >= 0 :\n",
    "        m, s = divmod(sleep_time, 60)\n",
    "        h, m = divmod(m, 60)\n",
    "        time_left = str(h).zfill(2) + \":\" + str(m).zfill(2) + \":\" + str(s).zfill(2)\n",
    "        print(time_left + \"\\r\", end = \"\")\n",
    "        time.sleep(1)\n",
    "        sleep_time -= 1"
   ]
  },
  {
   "cell_type": "code",
   "execution_count": 5,
   "metadata": {},
   "outputs": [],
   "source": [
    "def create_url_followers (user_id, max_return) :\n",
    "    \"\"\"URL query followers of a specific user.\"\"\"\n",
    "    user_fields = \"user.fields=created_at,description,location,name,username,pinned_tweet_id,protected,verified,public_metrics\"\n",
    "#     expansions = \"expansions=author_id,referenced_tweets.id\"\n",
    "    max_results = \"max_results=\" + str(max_return)\n",
    "    url = \"https://api.twitter.com/2/users/{}/followers?{}&{}\".format(\n",
    "        user_id, user_fields, max_results#, expansions\n",
    "    )\n",
    "    return url\n",
    "\n",
    "def create_headers (bearer_token) :\n",
    "    headers = {\"Authorization\": \"Bearer {}\".format(bearer_token)}\n",
    "    return headers\n",
    "\n",
    "def connect_to_endpoint (url, headers) :\n",
    "    response = requests.request(\"GET\", url, headers = headers)\n",
    "    if (response.status_code != 200) :\n",
    "        raise Exception(response.status_code, response.text)\n",
    "    return response.json()\n",
    "\n",
    "def main (url) :\n",
    "    bearer_token = token\n",
    "    headers = create_headers(bearer_token)\n",
    "    json_response = connect_to_endpoint(url, headers)\n",
    "    return (json_response)"
   ]
  },
  {
   "cell_type": "code",
   "execution_count": 6,
   "metadata": {},
   "outputs": [],
   "source": [
    "def find_followers (user_id, max_return) :\n",
    "    \"\"\"Function to find followers fo a specific user\"\"\"\n",
    "    url = create_url_followers(user_id, max_return)\n",
    "    response = main(url)\n",
    "    response = pd.json_normalize(response[\"data\"])\n",
    "    return (response)"
   ]
  },
  {
   "cell_type": "code",
   "execution_count": 103,
   "metadata": {},
   "outputs": [],
   "source": [
    "def get_followers (id_list, max_return) :\n",
    "    \"\"\"Function to format the results from the followers query\"\"\"\n",
    "    count = 0\n",
    "    l = len(id_list)\n",
    "    error_id = []\n",
    "    followers = pd.DataFrame()\n",
    "    source_id = []\n",
    "    print(\"# of users to scrape:\", l)\n",
    "    for i in id_list :\n",
    "        count += 1\n",
    "        print(\"Fetching user #\", count, \"of\", l)\n",
    "        sleep_countdown(60)\n",
    "        try :\n",
    "            result = find_followers(i, max_return)\n",
    "            followers = pd.concat([followers, result], ignore_index = True)\n",
    "            print(result.shape[0])\n",
    "            source_id.extend([i] * result.shape[0])\n",
    "        except :\n",
    "            print(\"Rate limit reached. Sleeping 15 mins.\")\n",
    "            error_id.append(i)\n",
    "            sleep_countdown(900)\n",
    "            pass\n",
    "        clear_output(wait = True)\n",
    "    followers[\"source_id\"] = source_id\n",
    "    print(\"Unable to fetch the following ids:\", error_id)\n",
    "    return (followers)"
   ]
  },
  {
   "cell_type": "markdown",
   "metadata": {},
   "source": [
    "# Fetch Followers From LotusOak2"
   ]
  },
  {
   "cell_type": "code",
   "execution_count": 104,
   "metadata": {},
   "outputs": [],
   "source": [
    "#set maximum followers to fetch per user\n",
    "max_followers = 1000"
   ]
  },
  {
   "cell_type": "code",
   "execution_count": 1,
   "metadata": {},
   "outputs": [],
   "source": [
    "# start with the user ID of LotusOak2\n",
    "follower_list = [\"424664120\"]"
   ]
  },
  {
   "cell_type": "code",
   "execution_count": null,
   "metadata": {
    "scrolled": true
   },
   "outputs": [],
   "source": [
    "followers1 = get_followers(follower_list, max_followers)"
   ]
  },
  {
   "cell_type": "code",
   "execution_count": 107,
   "metadata": {},
   "outputs": [
    {
     "data": {
      "text/html": [
       "<div>\n",
       "<style scoped>\n",
       "    .dataframe tbody tr th:only-of-type {\n",
       "        vertical-align: middle;\n",
       "    }\n",
       "\n",
       "    .dataframe tbody tr th {\n",
       "        vertical-align: top;\n",
       "    }\n",
       "\n",
       "    .dataframe thead th {\n",
       "        text-align: right;\n",
       "    }\n",
       "</style>\n",
       "<table border=\"1\" class=\"dataframe\">\n",
       "  <thead>\n",
       "    <tr style=\"text-align: right;\">\n",
       "      <th></th>\n",
       "      <th>location</th>\n",
       "      <th>created_at</th>\n",
       "      <th>protected</th>\n",
       "      <th>username</th>\n",
       "      <th>name</th>\n",
       "      <th>verified</th>\n",
       "      <th>description</th>\n",
       "      <th>id</th>\n",
       "      <th>public_metrics.followers_count</th>\n",
       "      <th>public_metrics.following_count</th>\n",
       "      <th>public_metrics.tweet_count</th>\n",
       "      <th>public_metrics.listed_count</th>\n",
       "      <th>pinned_tweet_id</th>\n",
       "      <th>source_id</th>\n",
       "    </tr>\n",
       "  </thead>\n",
       "  <tbody>\n",
       "    <tr>\n",
       "      <th>0</th>\n",
       "      <td>Minnesota</td>\n",
       "      <td>2020-08-05T00:19:00.000Z</td>\n",
       "      <td>False</td>\n",
       "      <td>djdave2020</td>\n",
       "      <td>🇺🇲⚡⚡Djdave1500⚡⚡🇺🇲</td>\n",
       "      <td>False</td>\n",
       "      <td>All♦️Digital⚡ TRUTH ⚡\\nThe Blue Pill Makes Me ...</td>\n",
       "      <td>1290804335484510208</td>\n",
       "      <td>8268</td>\n",
       "      <td>8204</td>\n",
       "      <td>22576</td>\n",
       "      <td>7</td>\n",
       "      <td>NaN</td>\n",
       "      <td>424664120</td>\n",
       "    </tr>\n",
       "    <tr>\n",
       "      <th>1</th>\n",
       "      <td>NaN</td>\n",
       "      <td>2018-04-14T20:00:29.000Z</td>\n",
       "      <td>True</td>\n",
       "      <td>PhillipMaldon19</td>\n",
       "      <td>Phillip Maldonado</td>\n",
       "      <td>False</td>\n",
       "      <td></td>\n",
       "      <td>985246433413562368</td>\n",
       "      <td>6</td>\n",
       "      <td>287</td>\n",
       "      <td>13</td>\n",
       "      <td>0</td>\n",
       "      <td>NaN</td>\n",
       "      <td>424664120</td>\n",
       "    </tr>\n",
       "    <tr>\n",
       "      <th>2</th>\n",
       "      <td>Jeddah</td>\n",
       "      <td>2019-11-11T22:53:00.000Z</td>\n",
       "      <td>False</td>\n",
       "      <td>DAlaaiessaaboud</td>\n",
       "      <td>د.علاء عيسى عبود( البروفايل الجديد)</td>\n",
       "      <td>False</td>\n",
       "      <td>Cosmetic dentist &amp; Smile designer تجميل الأسنا...</td>\n",
       "      <td>1194025173525110790</td>\n",
       "      <td>31</td>\n",
       "      <td>176</td>\n",
       "      <td>726</td>\n",
       "      <td>0</td>\n",
       "      <td>1328542435958517760</td>\n",
       "      <td>424664120</td>\n",
       "    </tr>\n",
       "    <tr>\n",
       "      <th>3</th>\n",
       "      <td>NaN</td>\n",
       "      <td>2020-12-11T18:48:46.000Z</td>\n",
       "      <td>False</td>\n",
       "      <td>JanWeil5</td>\n",
       "      <td>Jan_Marc in ND</td>\n",
       "      <td>False</td>\n",
       "      <td>Guns,Guitars, Good People (mostly Trumpers) an...</td>\n",
       "      <td>1337469235539238912</td>\n",
       "      <td>69</td>\n",
       "      <td>541</td>\n",
       "      <td>356</td>\n",
       "      <td>0</td>\n",
       "      <td>NaN</td>\n",
       "      <td>424664120</td>\n",
       "    </tr>\n",
       "    <tr>\n",
       "      <th>4</th>\n",
       "      <td>Deep South</td>\n",
       "      <td>2018-12-10T14:24:35.000Z</td>\n",
       "      <td>False</td>\n",
       "      <td>BWedehase</td>\n",
       "      <td>flipflopflo</td>\n",
       "      <td>False</td>\n",
       "      <td>MAGA &amp; KAG</td>\n",
       "      <td>1072134990383669248</td>\n",
       "      <td>1055</td>\n",
       "      <td>2968</td>\n",
       "      <td>11844</td>\n",
       "      <td>0</td>\n",
       "      <td>1131671877330579463</td>\n",
       "      <td>424664120</td>\n",
       "    </tr>\n",
       "  </tbody>\n",
       "</table>\n",
       "</div>"
      ],
      "text/plain": [
       "      location                created_at  protected         username  \\\n",
       "0    Minnesota  2020-08-05T00:19:00.000Z      False       djdave2020   \n",
       "1          NaN  2018-04-14T20:00:29.000Z       True  PhillipMaldon19   \n",
       "2       Jeddah  2019-11-11T22:53:00.000Z      False  DAlaaiessaaboud   \n",
       "3          NaN  2020-12-11T18:48:46.000Z      False         JanWeil5   \n",
       "4  Deep South   2018-12-10T14:24:35.000Z      False        BWedehase   \n",
       "\n",
       "                                  name  verified  \\\n",
       "0                   🇺🇲⚡⚡Djdave1500⚡⚡🇺🇲     False   \n",
       "1                    Phillip Maldonado     False   \n",
       "2  د.علاء عيسى عبود( البروفايل الجديد)     False   \n",
       "3                       Jan_Marc in ND     False   \n",
       "4                          flipflopflo     False   \n",
       "\n",
       "                                         description                   id  \\\n",
       "0  All♦️Digital⚡ TRUTH ⚡\\nThe Blue Pill Makes Me ...  1290804335484510208   \n",
       "1                                                      985246433413562368   \n",
       "2  Cosmetic dentist & Smile designer تجميل الأسنا...  1194025173525110790   \n",
       "3  Guns,Guitars, Good People (mostly Trumpers) an...  1337469235539238912   \n",
       "4                                         MAGA & KAG  1072134990383669248   \n",
       "\n",
       "   public_metrics.followers_count  public_metrics.following_count  \\\n",
       "0                            8268                            8204   \n",
       "1                               6                             287   \n",
       "2                              31                             176   \n",
       "3                              69                             541   \n",
       "4                            1055                            2968   \n",
       "\n",
       "   public_metrics.tweet_count  public_metrics.listed_count  \\\n",
       "0                       22576                            7   \n",
       "1                          13                            0   \n",
       "2                         726                            0   \n",
       "3                         356                            0   \n",
       "4                       11844                            0   \n",
       "\n",
       "       pinned_tweet_id  source_id  \n",
       "0                  NaN  424664120  \n",
       "1                  NaN  424664120  \n",
       "2  1328542435958517760  424664120  \n",
       "3                  NaN  424664120  \n",
       "4  1131671877330579463  424664120  "
      ]
     },
     "execution_count": 107,
     "metadata": {},
     "output_type": "execute_result"
    }
   ],
   "source": [
    "followers1.head()"
   ]
  },
  {
   "cell_type": "code",
   "execution_count": 108,
   "metadata": {},
   "outputs": [],
   "source": [
    "#export followers list\n",
    "followers1.to_csv(\"output/followers_ids_1000/followers1.csv\", index = False)"
   ]
  },
  {
   "cell_type": "code",
   "execution_count": 109,
   "metadata": {},
   "outputs": [],
   "source": [
    "#drop all duplicated followers\n",
    "found_followers = followers1[\"source_id\"].drop_duplicates()"
   ]
  },
  {
   "cell_type": "code",
   "execution_count": 110,
   "metadata": {},
   "outputs": [],
   "source": [
    "#drop all user where followers were already fetched\n",
    "follower_list = followers1[~followers1[\"id\"].isin(found_followers)]\n",
    "\n",
    "#drop all users with private account as user information for private accounts cannot be retrieved\n",
    "follower_list = follower_list[follower_list[\"protected\"] == False][\"id\"]"
   ]
  },
  {
   "cell_type": "code",
   "execution_count": null,
   "metadata": {},
   "outputs": [],
   "source": [
    "#get 2nd degree followers of LotusOak2 (followers of the followers of LotusOak2)\n",
    "followers2 = get_followers(follower_list, max_followers)"
   ]
  },
  {
   "cell_type": "code",
   "execution_count": 113,
   "metadata": {},
   "outputs": [],
   "source": [
    "#export followers list\n",
    "followers2.to_csv(\"output/followers_ids_1000/followers2.csv\", index = False)"
   ]
  },
  {
   "cell_type": "markdown",
   "metadata": {},
   "source": [
    "# Filter Followers Network\n",
    "\n",
    "We fetched the most recent 1,000 followers of LotusOak2 and the most recent 1,000 followers of his followers. This resulted in a very large list of users and connections. In order for the list to be more manageable, we will filter the list down to to include only:\n",
    "\n",
    "1) second degree followers are also followers of LotusOak2\n",
    "\n",
    "2) after the above filter, first degree followers must also have followers in order to be included"
   ]
  },
  {
   "cell_type": "code",
   "execution_count": 114,
   "metadata": {},
   "outputs": [],
   "source": [
    "# #import previously fetched data in case python notebook timeout\n",
    "# followers1 = pd.read_csv(\"output/followers_ids_1000/followers1.csv\")\n",
    "# followers1[\"id\"] = followers1[\"id\"].astype(str)\n",
    "# followers1[\"pinned_tweet_id\"] = followers1[\"pinned_tweet_id\"].astype(str)\n",
    "# followers1[\"source_id\"] = followers1[\"source_id\"].astype(str)\n",
    "\n",
    "# followers2 = pd.read_csv(\"output/followers_ids _1000/followers2.csv\")\n",
    "# followers2[\"id\"] = followers2[\"id\"].astype(str)\n",
    "# followers2[\"pinned_tweet_id\"] = followers2[\"pinned_tweet_id\"].astype(str)\n",
    "# followers2[\"source_id\"] = followers2[\"source_id\"].astype(str)"
   ]
  },
  {
   "cell_type": "code",
   "execution_count": 115,
   "metadata": {},
   "outputs": [],
   "source": [
    "#drop all duplicated rows (will not drop if the same user follows multiple different users)\n",
    "found_followers = pd.concat([followers1[\"source_id\"], followers2[\"source_id\"]], ignore_index = True).drop_duplicates()"
   ]
  },
  {
   "cell_type": "code",
   "execution_count": 116,
   "metadata": {},
   "outputs": [],
   "source": [
    "#filter data to include only nodes who are followers of LotusOak2\n",
    "#2nd degree followers must also be followers of LotusOak2 in order to be part of the filtered list\n",
    "followers2_filtered = followers2[followers2[\"id\"].isin(followers1[\"id\"])]\n",
    "followers1_filtered = followers1[followers1[\"id\"].isin(followers2_filtered[\"source_id\"])]\n",
    "filtered_followers = pd.concat([followers1_filtered, followers2_filtered], ignore_index = True)"
   ]
  },
  {
   "cell_type": "code",
   "execution_count": 117,
   "metadata": {},
   "outputs": [],
   "source": [
    "#export filtered followers list\n",
    "filtered_followers.to_csv(\"output/followers_ids_1000/filtered_followers.csv\", index = False)"
   ]
  },
  {
   "cell_type": "markdown",
   "metadata": {},
   "source": [
    "# Create Edges & Nodes"
   ]
  },
  {
   "cell_type": "code",
   "execution_count": 118,
   "metadata": {},
   "outputs": [],
   "source": [
    "#create edges\n",
    "edges = filtered_followers[[\"source_id\", \"id\"]]\n",
    "edges.columns = [\"source\", \"target\"]"
   ]
  },
  {
   "cell_type": "code",
   "execution_count": 142,
   "metadata": {},
   "outputs": [],
   "source": [
    "#create nodes\n",
    "nodes = filtered_followers[[\"id\", \"username\", \"verified\", \"created_at\", \"location\", \"description\"]]\n",
    "nodes = nodes.drop_duplicates(\"id\")"
   ]
  },
  {
   "cell_type": "code",
   "execution_count": 119,
   "metadata": {},
   "outputs": [],
   "source": [
    "#export edges and nodes\n",
    "edges.to_csv(\"output/followers_ids_1000/edges.csv\", index = False)\n",
    "nodes.to_csv(\"output/followers_ids_1000/nodes.csv\", index = False)"
   ]
  }
 ],
 "metadata": {
  "kernelspec": {
   "display_name": "Python 3",
   "language": "python",
   "name": "python3"
  },
  "language_info": {
   "codemirror_mode": {
    "name": "ipython",
    "version": 3
   },
   "file_extension": ".py",
   "mimetype": "text/x-python",
   "name": "python",
   "nbconvert_exporter": "python",
   "pygments_lexer": "ipython3",
   "version": "3.7.3"
  }
 },
 "nbformat": 4,
 "nbformat_minor": 2
}
